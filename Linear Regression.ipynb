{
 "cells": [
  {
   "cell_type": "markdown",
   "id": "4649ec16",
   "metadata": {},
   "source": [
    "# Predict the sale price of product based on investment in three different media channels"
   ]
  },
  {
   "cell_type": "markdown",
   "id": "ce573015",
   "metadata": {},
   "source": [
    "# Step 1 . Import dependencies"
   ]
  },
  {
   "cell_type": "code",
   "execution_count": 1,
   "id": "20c787df",
   "metadata": {},
   "outputs": [],
   "source": [
    "import pandas as pd \n",
    "import matplotlib.pyplot as plt\n",
    "import numpy as np\n",
    "import seaborn as sns\n",
    "from sklearn.preprocessing import StandardScaler\n",
    "from scipy.stats import skew\n",
    "\n",
    "import warnings \n",
    "warnings.filterwarnings(\"ignore\")\n",
    "%matplotlib inline"
   ]
  },
  {
   "cell_type": "markdown",
   "id": "b1d241e3",
   "metadata": {},
   "source": [
    "# Step 2 : Import data "
   ]
  },
  {
   "cell_type": "code",
   "execution_count": 2,
   "id": "efe79260",
   "metadata": {},
   "outputs": [
    {
     "name": "stdout",
     "output_type": "stream",
     "text": [
      "(200, 4)\n"
     ]
    },
    {
     "data": {
      "text/html": [
       "<div>\n",
       "<style scoped>\n",
       "    .dataframe tbody tr th:only-of-type {\n",
       "        vertical-align: middle;\n",
       "    }\n",
       "\n",
       "    .dataframe tbody tr th {\n",
       "        vertical-align: top;\n",
       "    }\n",
       "\n",
       "    .dataframe thead th {\n",
       "        text-align: right;\n",
       "    }\n",
       "</style>\n",
       "<table border=\"1\" class=\"dataframe\">\n",
       "  <thead>\n",
       "    <tr style=\"text-align: right;\">\n",
       "      <th></th>\n",
       "      <th>TV</th>\n",
       "      <th>radio</th>\n",
       "      <th>newspaper</th>\n",
       "      <th>sales</th>\n",
       "    </tr>\n",
       "  </thead>\n",
       "  <tbody>\n",
       "    <tr>\n",
       "      <th>1</th>\n",
       "      <td>230.1</td>\n",
       "      <td>37.8</td>\n",
       "      <td>69.2</td>\n",
       "      <td>22.1</td>\n",
       "    </tr>\n",
       "    <tr>\n",
       "      <th>2</th>\n",
       "      <td>44.5</td>\n",
       "      <td>39.3</td>\n",
       "      <td>45.1</td>\n",
       "      <td>10.4</td>\n",
       "    </tr>\n",
       "    <tr>\n",
       "      <th>3</th>\n",
       "      <td>17.2</td>\n",
       "      <td>45.9</td>\n",
       "      <td>69.3</td>\n",
       "      <td>9.3</td>\n",
       "    </tr>\n",
       "    <tr>\n",
       "      <th>4</th>\n",
       "      <td>151.5</td>\n",
       "      <td>41.3</td>\n",
       "      <td>58.5</td>\n",
       "      <td>18.5</td>\n",
       "    </tr>\n",
       "    <tr>\n",
       "      <th>5</th>\n",
       "      <td>180.8</td>\n",
       "      <td>10.8</td>\n",
       "      <td>58.4</td>\n",
       "      <td>12.9</td>\n",
       "    </tr>\n",
       "  </tbody>\n",
       "</table>\n",
       "</div>"
      ],
      "text/plain": [
       "      TV  radio  newspaper  sales\n",
       "1  230.1   37.8       69.2   22.1\n",
       "2   44.5   39.3       45.1   10.4\n",
       "3   17.2   45.9       69.3    9.3\n",
       "4  151.5   41.3       58.5   18.5\n",
       "5  180.8   10.8       58.4   12.9"
      ]
     },
     "execution_count": 2,
     "metadata": {},
     "output_type": "execute_result"
    }
   ],
   "source": [
    "df = pd.read_csv(r'Advertising.csv', index_col = 0)\n",
    "print(df.shape)\n",
    "df.head()"
   ]
  },
  {
   "cell_type": "raw",
   "id": "0b1646dc",
   "metadata": {},
   "source": [
    "this data set contain 200 records and 4 columns"
   ]
  },
  {
   "cell_type": "markdown",
   "id": "f8e1090e",
   "metadata": {},
   "source": [
    "# Step 3. Data analysis"
   ]
  },
  {
   "cell_type": "code",
   "execution_count": 3,
   "id": "b1ce0bb4",
   "metadata": {},
   "outputs": [
    {
     "name": "stdout",
     "output_type": "stream",
     "text": [
      "TV           float64\n",
      "radio        float64\n",
      "newspaper    float64\n",
      "sales        float64\n",
      "dtype: object\n"
     ]
    }
   ],
   "source": [
    "print(df.dtypes)"
   ]
  },
  {
   "cell_type": "code",
   "execution_count": 4,
   "id": "4914a149",
   "metadata": {},
   "outputs": [
    {
     "name": "stdout",
     "output_type": "stream",
     "text": [
      "               TV       radio   newspaper       sales\n",
      "count  200.000000  200.000000  200.000000  200.000000\n",
      "mean   147.042500   23.264000   30.554000   14.022500\n",
      "std     85.854236   14.846809   21.778621    5.217457\n",
      "min      0.700000    0.000000    0.300000    1.600000\n",
      "25%     74.375000    9.975000   12.750000   10.375000\n",
      "50%    149.750000   22.900000   25.750000   12.900000\n",
      "75%    218.825000   36.525000   45.100000   17.400000\n",
      "max    296.400000   49.600000  114.000000   27.000000\n"
     ]
    }
   ],
   "source": [
    "print(df.describe())"
   ]
  },
  {
   "cell_type": "markdown",
   "id": "1fc33e49",
   "metadata": {},
   "source": [
    "> In this data we can see that we have spend more amount on TV media channel \n",
    "\n",
    "> Less amount on radio media chanel \n"
   ]
  },
  {
   "cell_type": "markdown",
   "id": "4fe03bd6",
   "metadata": {},
   "source": [
    "# Step 4 . Check Assumption \n",
    "Linear regression is a parametric algorthim means before using linear regression \n",
    "we have to check the assumption if those assumtions are true then only \n",
    "we can use linear regresssion other wise use other algo"
   ]
  },
  {
   "cell_type": "code",
   "execution_count": 5,
   "id": "2c80ddc7",
   "metadata": {},
   "outputs": [
    {
     "ename": "SyntaxError",
     "evalue": "invalid syntax (3625511307.py, line 1)",
     "output_type": "error",
     "traceback": [
      "\u001b[1;36m  Cell \u001b[1;32mIn[5], line 1\u001b[1;36m\u001b[0m\n\u001b[1;33m    Assumption 1 . There should be no outliers in data\u001b[0m\n\u001b[1;37m               ^\u001b[0m\n\u001b[1;31mSyntaxError\u001b[0m\u001b[1;31m:\u001b[0m invalid syntax\n"
     ]
    }
   ],
   "source": [
    "Assumption 1 . There should be no outliers in data "
   ]
  },
  {
   "cell_type": "code",
   "execution_count": null,
   "id": "22da5f9d",
   "metadata": {
    "scrolled": true
   },
   "outputs": [],
   "source": [
    "df.boxplot() # box plot is use for continous numeric data"
   ]
  },
  {
   "cell_type": "code",
   "execution_count": null,
   "id": "053cd4da",
   "metadata": {},
   "outputs": [],
   "source": [
    "df.boxplot(column=\"newspaper\")"
   ]
  },
  {
   "cell_type": "markdown",
   "id": "38362c37",
   "metadata": {},
   "source": [
    "# Note : if outlier present then we can treat using below approach\n",
    "    \n",
    "> Elimination : directly dropping the variable\n",
    "\n",
    ">Treat the outlier : A using caping and floaring approach\n",
    "                   : Replace using measure of central tendencies\n",
    "                   : replace custom values\n",
    "                   \n",
    "\n",
    ">If cluster is present then leave them as it is ( more data)\n",
    "\n",
    "> check with client if this is acceptable range or not"
   ]
  },
  {
   "cell_type": "code",
   "execution_count": null,
   "id": "68fdffa5",
   "metadata": {},
   "outputs": [],
   "source": [
    "df.isnull().sum()  #is null means we to check : and sum is used to see total missing value."
   ]
  },
  {
   "cell_type": "code",
   "execution_count": null,
   "id": "50465b42",
   "metadata": {},
   "outputs": [],
   "source": [
    "def check_missing_value(data):\n",
    "    \"\"\"\n",
    "    Objective: Check missing value count and percentage in all columns\n",
    "    \n",
    "    data: input data frame \n",
    "    return: Missing value data frame \n",
    "\n",
    "    \"\"\"\n",
    "    total = data.isnull().sum().sort_values(ascending=False)\n",
    "    percent= (data.isnull().sum()/data.isnull().count()  * 100).sort_values(ascendi ng=False)\n",
    "    missing_data = pd.concat([total,percent],axis=1,keys=['Total','Percent'])\n",
    "    return missing_data"
   ]
  },
  {
   "cell_type": "code",
   "execution_count": null,
   "id": "1d86ef9d",
   "metadata": {},
   "outputs": [],
   "source": [
    "plt.figure(figsize=(15,5))\n",
    "sns.heatmap(df.isnull(), cbar = False, yticklabels=False, cmap=\"magma\" )"
   ]
  },
  {
   "cell_type": "markdown",
   "id": "9d02bb4f",
   "metadata": {},
   "source": [
    "Note:\n",
    "    \n",
    "    1. If Missing value contain more than 50% of the data then you can drop the entire column\n",
    "    2. if less than 50% then we can treat those missing values by using Measure of Central Tendencies\n",
    "    3. If column is Categorial then you can use Mode to replace missing values\n",
    "    4. If column is Continuous Numerical Varaiable then you can you use Mean if that variable is not skewd\n",
    "    5. if column is continuous numerical varaiable with skewd data then we can use Median which is not affected by outlier\n",
    "    6. You can Predict the missing values by using Other featreus (not recommended)\n",
    "    7. You can directly ask to client\n",
    "    8. Common Sence"
   ]
  },
  {
   "cell_type": "markdown",
   "id": "bf59ff85",
   "metadata": {},
   "source": [
    "# Assumption 2. Assumption of Lineartiy: Every Independet Variable should have a Linear Relationship with the Dependent Variable.\n",
    "\n",
    "\n",
    "means we have to check whether there is relation between x and y variable it can be positive , negative \n",
    "if the there is no relation between the x and y variable then we can drop the variable."
   ]
  },
  {
   "cell_type": "code",
   "execution_count": null,
   "id": "d5f1d594",
   "metadata": {},
   "outputs": [],
   "source": [
    "# to check the relation we use pairplot"
   ]
  },
  {
   "cell_type": "code",
   "execution_count": null,
   "id": "c06d7f6c",
   "metadata": {},
   "outputs": [],
   "source": [
    "sns.pairplot(df,\n",
    "             x_vars=[\"TV\",\"radio\",\"newspaper\"],\n",
    "             y_vars=\"sales\",\n",
    "             kind='reg')\n",
    "plt.show()"
   ]
  },
  {
   "cell_type": "markdown",
   "id": "aac2e3f0",
   "metadata": {},
   "source": [
    "# Note: If the assumption of Linearity is not met then we can drop that variable\n",
    "\n",
    "- Strong Positive Linear Relationship in Tv and sales\n",
    "- Moderately Strong Positive Linear Relationship in Radio and sales\n",
    "- NO Relation in Newspaper Sales also the C.I is also high  "
   ]
  },
  {
   "cell_type": "code",
   "execution_count": null,
   "id": "d27c46d0",
   "metadata": {},
   "outputs": [],
   "source": [
    "df.columns"
   ]
  },
  {
   "cell_type": "code",
   "execution_count": 10,
   "id": "c526d319",
   "metadata": {},
   "outputs": [],
   "source": [
    "feature_cols = ['TV', 'radio', 'newspaper']\n",
    "X = df[feature_cols] # here X is bigger because the data is in 2d\n",
    "y = df.sales         # here y is small because the data is 1d"
   ]
  },
  {
   "cell_type": "code",
   "execution_count": 11,
   "id": "d62d667f",
   "metadata": {},
   "outputs": [
    {
     "data": {
      "text/html": [
       "<div>\n",
       "<style scoped>\n",
       "    .dataframe tbody tr th:only-of-type {\n",
       "        vertical-align: middle;\n",
       "    }\n",
       "\n",
       "    .dataframe tbody tr th {\n",
       "        vertical-align: top;\n",
       "    }\n",
       "\n",
       "    .dataframe thead th {\n",
       "        text-align: right;\n",
       "    }\n",
       "</style>\n",
       "<table border=\"1\" class=\"dataframe\">\n",
       "  <thead>\n",
       "    <tr style=\"text-align: right;\">\n",
       "      <th></th>\n",
       "      <th>TV</th>\n",
       "      <th>radio</th>\n",
       "      <th>newspaper</th>\n",
       "    </tr>\n",
       "  </thead>\n",
       "  <tbody>\n",
       "    <tr>\n",
       "      <th>1</th>\n",
       "      <td>230.1</td>\n",
       "      <td>37.8</td>\n",
       "      <td>69.2</td>\n",
       "    </tr>\n",
       "    <tr>\n",
       "      <th>2</th>\n",
       "      <td>44.5</td>\n",
       "      <td>39.3</td>\n",
       "      <td>45.1</td>\n",
       "    </tr>\n",
       "    <tr>\n",
       "      <th>3</th>\n",
       "      <td>17.2</td>\n",
       "      <td>45.9</td>\n",
       "      <td>69.3</td>\n",
       "    </tr>\n",
       "    <tr>\n",
       "      <th>4</th>\n",
       "      <td>151.5</td>\n",
       "      <td>41.3</td>\n",
       "      <td>58.5</td>\n",
       "    </tr>\n",
       "    <tr>\n",
       "      <th>5</th>\n",
       "      <td>180.8</td>\n",
       "      <td>10.8</td>\n",
       "      <td>58.4</td>\n",
       "    </tr>\n",
       "  </tbody>\n",
       "</table>\n",
       "</div>"
      ],
      "text/plain": [
       "      TV  radio  newspaper\n",
       "1  230.1   37.8       69.2\n",
       "2   44.5   39.3       45.1\n",
       "3   17.2   45.9       69.3\n",
       "4  151.5   41.3       58.5\n",
       "5  180.8   10.8       58.4"
      ]
     },
     "execution_count": 11,
     "metadata": {},
     "output_type": "execute_result"
    }
   ],
   "source": [
    "X.head()"
   ]
  },
  {
   "cell_type": "code",
   "execution_count": 12,
   "id": "3b7c6a7f",
   "metadata": {},
   "outputs": [
    {
     "data": {
      "text/plain": [
       "1      22.1\n",
       "2      10.4\n",
       "3       9.3\n",
       "4      18.5\n",
       "5      12.9\n",
       "       ... \n",
       "196     7.6\n",
       "197     9.7\n",
       "198    12.8\n",
       "199    25.5\n",
       "200    13.4\n",
       "Name: sales, Length: 200, dtype: float64"
      ]
     },
     "execution_count": 12,
     "metadata": {},
     "output_type": "execute_result"
    }
   ],
   "source": [
    "y"
   ]
  },
  {
   "cell_type": "markdown",
   "id": "04272677",
   "metadata": {},
   "source": [
    "# Assumption 3: Assumption of Normality: The dependent Variable should follow an approximate normal Distribution\n",
    "\n",
    "In linear regression the data should be normally distributed so that the predication can be made properly.\n",
    "\n",
    "\n"
   ]
  },
  {
   "cell_type": "code",
   "execution_count": 13,
   "id": "e6ae9532",
   "metadata": {},
   "outputs": [
    {
     "data": {
      "image/png": "[encoded data removed]",
      "text/plain": [
       "<Figure size 640x480 with 1 Axes>"
      ]
     },
     "metadata": {},
     "output_type": "display_data"
    }
   ],
   "source": [
    "sns.distplot(y, hist=True)  # this is distrubtion plot\n",
    "plt.show()"
   ]
  },
  {
   "cell_type": "markdown",
   "id": "1e5d5526",
   "metadata": {},
   "source": [
    "- SALE Variable is meeting the assumption and we can see the approximate normal Distribution\n",
    "\n",
    "\n",
    "### Note: If its not normal or if its skewed plot then we can transform the column in different transformation\n",
    "\n",
    "1. Log Transform\n",
    "    - Most of the time We Prefer log transform, because it will help you to smoothing of curve \n",
    "2. SQRT Transform\n",
    "    - In sqrt transform we can see the peeks and sometime it will not help you to smoothing of curve"
   ]
  },
  {
   "cell_type": "code",
   "execution_count": 14,
   "id": "7bc622bb",
   "metadata": {},
   "outputs": [
    {
     "data": {
      "text/plain": [
       "<Axes: xlabel='sales', ylabel='Density'>"
      ]
     },
     "execution_count": 14,
     "metadata": {},
     "output_type": "execute_result"
    },
    {
     "data": {
      "image/png": "[encoded data removed]",
      "text/plain": [
       "<Figure size 640x480 with 1 Axes>"
      ]
     },
     "metadata": {},
     "output_type": "display_data"
    }
   ],
   "source": [
    "#### you can use this code to convert into log transformation\n",
    "Y_log = np.log(y)\n",
    "sns.distplot(Y_log, hist=True)"
   ]
  },
  {
   "cell_type": "markdown",
   "id": "efa0b569",
   "metadata": {},
   "source": [
    "#### Note: If your data is approximate normal then dont transform coz you will get skewd data"
   ]
  },
  {
   "cell_type": "markdown",
   "id": "0ad1ce5e",
   "metadata": {},
   "source": [
    "#### Note: For good practive make sure that your X variables does not contain high skewness and if its approximately normal then its good.\n"
   ]
  },
  {
   "cell_type": "code",
   "execution_count": 16,
   "id": "1699de5d",
   "metadata": {},
   "outputs": [
    {
     "data": {
      "image/png": "[encoded data removed]",
      "text/plain": [
       "<Figure size 640x480 with 4 Axes>"
      ]
     },
     "metadata": {},
     "output_type": "display_data"
    }
   ],
   "source": [
    "# check hist for all variables\n",
    "X.hist(bins=20)\n",
    "plt.show()"
   ]
  },
  {
   "cell_type": "code",
   "execution_count": 15,
   "id": "b677b304",
   "metadata": {},
   "outputs": [
    {
     "name": "stdout",
     "output_type": "stream",
     "text": [
      "TV          -0.069328\n",
      "radio        0.093467\n",
      "newspaper    0.887996\n",
      "dtype: float64\n",
      "newspaper    0.887996\n",
      "dtype: float64\n"
     ]
    }
   ],
   "source": [
    "data_num_skew = X.apply(lambda x: skew(x.dropna()))\n",
    "data_num_skewed = data_num_skew[(data_num_skew > 0.75) | (data_num_skew < -0.75)]\n",
    "\n",
    "print(data_num_skew)\n",
    "print(data_num_skewed)"
   ]
  },
  {
   "cell_type": "code",
   "execution_count": null,
   "id": "cd493b41",
   "metadata": {},
   "outputs": [],
   "source": [
    "data_num_skewed.index"
   ]
  },
  {
   "cell_type": "code",
   "execution_count": null,
   "id": "0bb3527c",
   "metadata": {},
   "outputs": [],
   "source": [
    "X[data_num_skewed.index]"
   ]
  },
  {
   "cell_type": "code",
   "execution_count": 17,
   "id": "9bae5458",
   "metadata": {},
   "outputs": [],
   "source": [
    "# apply log + 1 transformation for all numeric featreus with Skewness over 0.75\n",
    "X[data_num_skewed.index] = np.log1p(X[data_num_skewed.index])"
   ]
  },
  {
   "cell_type": "markdown",
   "id": "b1f152c8",
   "metadata": {},
   "source": [
    "- Range of skewness is -1 to +1 and value close to 0 means normal distribution"
   ]
  },
  {
   "cell_type": "code",
   "execution_count": 18,
   "id": "dc0f0c3e",
   "metadata": {},
   "outputs": [
    {
     "data": {
      "image/png": "[encoded data removed]",
      "text/plain": [
       "<Figure size 640x480 with 4 Axes>"
      ]
     },
     "metadata": {},
     "output_type": "display_data"
    }
   ],
   "source": [
    "# check hist for all variables after log transform of newspaper \n",
    "X.hist(bins=20)\n",
    "plt.show()"
   ]
  },
  {
   "cell_type": "raw",
   "id": "0bce0084",
   "metadata": {},
   "source": [
    "Note: Types of Models\n",
    "\n",
    "Log - Transform\n",
    "Level - Original\n",
    "\n",
    "X        Y\n",
    "Log   - Log\n",
    "Log   - Level\n",
    "Level - Log\n",
    "Level - Level \n",
    "\n",
    "- If the column ( x or y) is not normaly distributed then use log transform \n",
    "so if x is not normaly distributed as well as y then use log - log \n"
   ]
  },
  {
   "cell_type": "markdown",
   "id": "8dfcb53c",
   "metadata": {},
   "source": [
    "Assumption 4 : There should be no multicolinearity in Data \n",
    "\n",
    "    Multicolinearity is problem where one variable is dependent on other , we want dependency between x and y variable but not in the X variable, so if varaible are depend on each other then the model will bw not good\n",
    "    to check the multicolinearity we can use the pearson correlation or VIF value."
   ]
  },
  {
   "cell_type": "markdown",
   "id": "f383b573",
   "metadata": {},
   "source": [
    "Pearson Corrleration "
   ]
  },
  {
   "cell_type": "code",
   "execution_count": 19,
   "id": "821e83f4",
   "metadata": {},
   "outputs": [
    {
     "name": "stdout",
     "output_type": "stream",
     "text": [
      "                 TV     radio  newspaper\n",
      "TV         1.000000  0.054809   0.030951\n",
      "radio      0.054809  1.000000   0.251909\n",
      "newspaper  0.030951  0.251909   1.000000\n"
     ]
    }
   ],
   "source": [
    "corr_df = X.corr(method =\"pearson\")\n",
    "print(corr_df)"
   ]
  },
  {
   "cell_type": "code",
   "execution_count": 20,
   "id": "c19952d6",
   "metadata": {},
   "outputs": [
    {
     "data": {
      "image/png": "[encoded data removed]",
      "text/plain": [
       "<Figure size 640x480 with 2 Axes>"
      ]
     },
     "metadata": {},
     "output_type": "display_data"
    }
   ],
   "source": [
    "sns.heatmap(corr_df, vmax=1.0, vmin=-1.0, annot=True)\n",
    "plt.show()"
   ]
  },
  {
   "cell_type": "markdown",
   "id": "9e00e5a4",
   "metadata": {},
   "source": [
    "we want value close to 0 means that  is not correlated with each other \n",
    "#### Note: If the correlation is high between two variables then drop one \n",
    "beacuse bothe varible carrying the similar information so eliminate the varible but think logically."
   ]
  },
  {
   "cell_type": "markdown",
   "id": "37233e1d",
   "metadata": {},
   "source": [
    "# Check VIF"
   ]
  },
  {
   "cell_type": "code",
   "execution_count": 21,
   "id": "df4ba38c",
   "metadata": {},
   "outputs": [],
   "source": [
    "from statsmodels.stats.outliers_influence import variance_inflation_factor as vif"
   ]
  },
  {
   "cell_type": "code",
   "execution_count": 22,
   "id": "13797094",
   "metadata": {},
   "outputs": [
    {
     "data": {
      "text/html": [
       "<div>\n",
       "<style scoped>\n",
       "    .dataframe tbody tr th:only-of-type {\n",
       "        vertical-align: middle;\n",
       "    }\n",
       "\n",
       "    .dataframe tbody tr th {\n",
       "        vertical-align: top;\n",
       "    }\n",
       "\n",
       "    .dataframe thead th {\n",
       "        text-align: right;\n",
       "    }\n",
       "</style>\n",
       "<table border=\"1\" class=\"dataframe\">\n",
       "  <thead>\n",
       "    <tr style=\"text-align: right;\">\n",
       "      <th></th>\n",
       "      <th>Features</th>\n",
       "      <th>VIF Factors</th>\n",
       "    </tr>\n",
       "  </thead>\n",
       "  <tbody>\n",
       "    <tr>\n",
       "      <th>0</th>\n",
       "      <td>TV</td>\n",
       "      <td>3.39</td>\n",
       "    </tr>\n",
       "    <tr>\n",
       "      <th>1</th>\n",
       "      <td>radio</td>\n",
       "      <td>3.63</td>\n",
       "    </tr>\n",
       "    <tr>\n",
       "      <th>2</th>\n",
       "      <td>newspaper</td>\n",
       "      <td>5.44</td>\n",
       "    </tr>\n",
       "  </tbody>\n",
       "</table>\n",
       "</div>"
      ],
      "text/plain": [
       "    Features  VIF Factors\n",
       "0         TV         3.39\n",
       "1      radio         3.63\n",
       "2  newspaper         5.44"
      ]
     },
     "execution_count": 22,
     "metadata": {},
     "output_type": "execute_result"
    }
   ],
   "source": [
    "vif_df = pd.DataFrame()\n",
    "vif_df[\"Features\"] = X.columns\n",
    "vif_df[\"VIF Factors\"] = [vif(X.values, i) for i in range(X.shape[1])]\n",
    "vif_df.round(2)"
   ]
  },
  {
   "cell_type": "code",
   "execution_count": 23,
   "id": "aaaa3154",
   "metadata": {},
   "outputs": [],
   "source": [
    "all_scores = []\n",
    "for i in range(X.shape[1]):\n",
    "    v = vif(X.values, i)\n",
    "    all_scores.append(round(v, 2))\n",
    "vif_df[\"VIF Factors\"] = all_scores\n"
   ]
  },
  {
   "cell_type": "code",
   "execution_count": 24,
   "id": "1029343b",
   "metadata": {},
   "outputs": [
    {
     "data": {
      "text/plain": [
       "[3.39, 3.63, 5.44]"
      ]
     },
     "execution_count": 24,
     "metadata": {},
     "output_type": "execute_result"
    }
   ],
   "source": [
    "all_scores"
   ]
  },
  {
   "cell_type": "code",
   "execution_count": 25,
   "id": "00fa84ce",
   "metadata": {},
   "outputs": [],
   "source": [
    "from sklearn.model_selection import train_test_split"
   ]
  },
  {
   "cell_type": "code",
   "execution_count": 26,
   "id": "5ca3b5b8",
   "metadata": {},
   "outputs": [],
   "source": [
    "X_train , X_test, y_train, y_test = train_test_split(X,\n",
    "                                                    y,\n",
    "                                                    test_size =0.2,\n",
    "                                                    random_state=10)"
   ]
  },
  {
   "cell_type": "code",
   "execution_count": 27,
   "id": "a9b3b4f2",
   "metadata": {},
   "outputs": [
    {
     "data": {
      "text/plain": [
       "(200, 4)"
      ]
     },
     "execution_count": 27,
     "metadata": {},
     "output_type": "execute_result"
    }
   ],
   "source": [
    "df.shape"
   ]
  },
  {
   "cell_type": "code",
   "execution_count": 28,
   "id": "b1c6035b",
   "metadata": {},
   "outputs": [
    {
     "name": "stdout",
     "output_type": "stream",
     "text": [
      "(160, 3)\n",
      "(160,)\n",
      "(40, 3)\n",
      "(40,)\n"
     ]
    }
   ],
   "source": [
    "print(X_train.shape)\n",
    "print(y_train.shape)\n",
    "print(X_test.shape)\n",
    "print(y_test.shape)"
   ]
  },
  {
   "cell_type": "code",
   "execution_count": 29,
   "id": "e1621a93",
   "metadata": {},
   "outputs": [],
   "source": [
    "from sklearn.preprocessing import StandardScaler, MinMaxScaler\n",
    "\n",
    "scaler = MinMaxScaler()\n",
    "\n",
    "scaler.fit(X_train)\n",
    "\n",
    "X_train_scale = scaler.transform(X_train)\n",
    "X_test_scale = scaler.transform(X_test)\n"
   ]
  },
  {
   "cell_type": "code",
   "execution_count": 30,
   "id": "b7484520",
   "metadata": {},
   "outputs": [
    {
     "data": {
      "text/html": [
       "<div>\n",
       "<style scoped>\n",
       "    .dataframe tbody tr th:only-of-type {\n",
       "        vertical-align: middle;\n",
       "    }\n",
       "\n",
       "    .dataframe tbody tr th {\n",
       "        vertical-align: top;\n",
       "    }\n",
       "\n",
       "    .dataframe thead th {\n",
       "        text-align: right;\n",
       "    }\n",
       "</style>\n",
       "<table border=\"1\" class=\"dataframe\">\n",
       "  <thead>\n",
       "    <tr style=\"text-align: right;\">\n",
       "      <th></th>\n",
       "      <th>TV</th>\n",
       "      <th>radio</th>\n",
       "      <th>newspaper</th>\n",
       "    </tr>\n",
       "  </thead>\n",
       "  <tbody>\n",
       "    <tr>\n",
       "      <th>191</th>\n",
       "      <td>39.5</td>\n",
       "      <td>41.1</td>\n",
       "      <td>1.916923</td>\n",
       "    </tr>\n",
       "    <tr>\n",
       "      <th>8</th>\n",
       "      <td>120.2</td>\n",
       "      <td>19.6</td>\n",
       "      <td>2.533697</td>\n",
       "    </tr>\n",
       "    <tr>\n",
       "      <th>27</th>\n",
       "      <td>142.9</td>\n",
       "      <td>29.3</td>\n",
       "      <td>2.610070</td>\n",
       "    </tr>\n",
       "    <tr>\n",
       "      <th>139</th>\n",
       "      <td>43.0</td>\n",
       "      <td>25.9</td>\n",
       "      <td>3.068053</td>\n",
       "    </tr>\n",
       "    <tr>\n",
       "      <th>59</th>\n",
       "      <td>210.8</td>\n",
       "      <td>49.6</td>\n",
       "      <td>3.655840</td>\n",
       "    </tr>\n",
       "    <tr>\n",
       "      <th>...</th>\n",
       "      <td>...</td>\n",
       "      <td>...</td>\n",
       "      <td>...</td>\n",
       "    </tr>\n",
       "    <tr>\n",
       "      <th>114</th>\n",
       "      <td>209.6</td>\n",
       "      <td>20.6</td>\n",
       "      <td>2.459589</td>\n",
       "    </tr>\n",
       "    <tr>\n",
       "      <th>65</th>\n",
       "      <td>131.1</td>\n",
       "      <td>42.8</td>\n",
       "      <td>3.397858</td>\n",
       "    </tr>\n",
       "    <tr>\n",
       "      <th>16</th>\n",
       "      <td>195.4</td>\n",
       "      <td>47.7</td>\n",
       "      <td>3.987130</td>\n",
       "    </tr>\n",
       "    <tr>\n",
       "      <th>126</th>\n",
       "      <td>87.2</td>\n",
       "      <td>11.8</td>\n",
       "      <td>3.292126</td>\n",
       "    </tr>\n",
       "    <tr>\n",
       "      <th>10</th>\n",
       "      <td>199.8</td>\n",
       "      <td>2.6</td>\n",
       "      <td>3.100092</td>\n",
       "    </tr>\n",
       "  </tbody>\n",
       "</table>\n",
       "<p>160 rows × 3 columns</p>\n",
       "</div>"
      ],
      "text/plain": [
       "        TV  radio  newspaper\n",
       "191   39.5   41.1   1.916923\n",
       "8    120.2   19.6   2.533697\n",
       "27   142.9   29.3   2.610070\n",
       "139   43.0   25.9   3.068053\n",
       "59   210.8   49.6   3.655840\n",
       "..     ...    ...        ...\n",
       "114  209.6   20.6   2.459589\n",
       "65   131.1   42.8   3.397858\n",
       "16   195.4   47.7   3.987130\n",
       "126   87.2   11.8   3.292126\n",
       "10   199.8    2.6   3.100092\n",
       "\n",
       "[160 rows x 3 columns]"
      ]
     },
     "execution_count": 30,
     "metadata": {},
     "output_type": "execute_result"
    }
   ],
   "source": [
    "X_train"
   ]
  },
  {
   "cell_type": "code",
   "execution_count": 31,
   "id": "df08fdb9",
   "metadata": {},
   "outputs": [
    {
     "data": {
      "text/plain": [
       "array([[0.12110845, 0.82758621, 0.36910949],\n",
       "       [0.39719466, 0.39148073, 0.50670344],\n",
       "       [0.4748546 , 0.58823529, 0.52374121],\n",
       "       [0.13308245, 0.51926978, 0.62591103],\n",
       "       [0.70715019, 1.        , 0.75703825],\n",
       "       [0.07765994, 0.663286  , 0.61309872],\n",
       "       [0.62880602, 0.34279919, 0.5971572 ],\n",
       "       [0.78002053, 0.168357  , 0.44835052],\n",
       "       [0.01094766, 0.56389452, 0.777408  ],\n",
       "       [0.46219637, 0.28397566, 0.67339682],\n",
       "       [0.1991105 , 0.2494929 , 0.60182933],\n",
       "       [0.69380773, 0.1643002 , 0.68000727],\n",
       "       [1.        , 0.73022312, 0.97301989],\n",
       "       [0.54533014, 0.74036511, 0.41624968],\n",
       "       [0.79815258, 0.09736308, 0.65505062],\n",
       "       [0.16900445, 0.03448276, 0.63505936],\n",
       "       [0.93328772, 0.98580122, 0.77950272],\n",
       "       [0.66712282, 0.61460446, 0.76272954],\n",
       "       [0.44543277, 0.09330629, 0.46173972],\n",
       "       [0.21484776, 0.23123732, 0.75178892],\n",
       "       [0.05234348, 0.31845842, 0.64384727],\n",
       "       [0.75846733, 0.16024341, 0.84536828],\n",
       "       [0.54464591, 0.63488844, 0.83094475],\n",
       "       [0.69346562, 0.09939148, 0.61419497],\n",
       "       [0.55661991, 0.84584178, 0.28191253],\n",
       "       [0.79815258, 0.55172414, 0.49581902],\n",
       "       [0.78823127, 0.06288032, 0.93465506],\n",
       "       [0.25350667, 0.94320487, 0.73778435],\n",
       "       [0.46253849, 0.28803245, 0.48042764],\n",
       "       [0.09373931, 0.49290061, 0.20095324],\n",
       "       [0.46938077, 0.53752535, 0.80133302],\n",
       "       [0.13342456, 0.53549696, 0.74152332],\n",
       "       [0.30824495, 0.09330629, 0.43410612],\n",
       "       [0.27916524, 0.72008114, 0.81552381],\n",
       "       [0.4485118 , 0.83975659, 0.79991057],\n",
       "       [0.66199111, 0.46653144, 0.54855414],\n",
       "       [0.21997947, 0.89655172, 0.74459196],\n",
       "       [0.04721177, 0.75659229, 0.63704237],\n",
       "       [0.24734861, 0.01014199, 0.55719082],\n",
       "       [0.59151557, 0.67139959, 0.76272954],\n",
       "       [0.24734861, 0.53549696, 0.64384727],\n",
       "       [0.80636333, 0.07707911, 0.75237831],\n",
       "       [0.31850838, 0.02434077, 0.707546  ],\n",
       "       [0.15703045, 0.22920892, 0.60298224],\n",
       "       [0.76325693, 0.31440162, 0.81816913],\n",
       "       [0.88539172, 0.06490872, 0.61528586],\n",
       "       [0.61067397, 0.93103448, 0.85374452],\n",
       "       [0.45774889, 0.93509128, 0.85486275],\n",
       "       [0.94868286, 0.79716024, 0.84263578],\n",
       "       [0.49811837, 0.71602434, 0.37557622],\n",
       "       [0.32945604, 0.18864097, 0.28191253],\n",
       "       [0.68422853, 0.66125761, 0.80038573],\n",
       "       [0.24358536, 0.40567951, 0.72484818],\n",
       "       [0.71638727, 0.86612576, 0.73334152],\n",
       "       [0.85425932, 0.42596349, 0.707546  ],\n",
       "       [0.22750599, 0.31845842, 0.77422856],\n",
       "       [0.50427643, 0.831643  , 0.85299591],\n",
       "       [0.76702018, 0.336714  , 0.67837293],\n",
       "       [0.81799521, 0.98782961, 0.7921671 ],\n",
       "       [0.96442012, 0.27586207, 0.28671027],\n",
       "       [0.24153267, 0.9959432 , 0.79895721],\n",
       "       [0.04994868, 0.23935091, 0.6541382 ],\n",
       "       [0.46322272, 0.03651116, 0.68162973],\n",
       "       [0.63975368, 0.57606491, 0.60067044],\n",
       "       [0.5850154 , 0.45030426, 0.71808747],\n",
       "       [0.01471091, 0.54563895, 0.19387054],\n",
       "       [0.61854259, 0.4198783 , 0.64095626],\n",
       "       [0.55251454, 0.19675456, 0.59358774],\n",
       "       [0.24426959, 0.21298174, 0.37557622],\n",
       "       [0.9904208 , 0.55578093, 0.1711642 ],\n",
       "       [0.18987342, 0.23732252, 0.78617784],\n",
       "       [0.89326035, 0.05273834, 0.7856714 ],\n",
       "       [0.38282586, 0.15010142, 0.65137833],\n",
       "       [0.57612042, 0.36105477, 0.7125274 ],\n",
       "       [0.5682518 , 0.15212982, 0.74214043],\n",
       "       [0.34382484, 0.10953347, 0.73715505],\n",
       "       [0.72288744, 0.47261663, 0.84959571],\n",
       "       [0.06739651, 0.70588235, 0.87914669],\n",
       "       [0.58706808, 0.30628803, 0.21447777],\n",
       "       [0.72049264, 0.48073022, 0.30051383],\n",
       "       [0.0311324 , 0.31643002, 0.81685039],\n",
       "       [0.07150188, 0.21703854, 0.70537658],\n",
       "       [0.64693808, 0.36713996, 0.87847877],\n",
       "       [0.80738967, 0.14198783, 0.44835052],\n",
       "       [0.18268902, 0.65922921, 0.65505062],\n",
       "       [0.73965104, 0.98782961, 0.26161796],\n",
       "       [0.13889839, 0.51724138, 0.62694624],\n",
       "       [0.        , 0.22920892, 0.36580445],\n",
       "       [0.11597674, 0.81135903, 0.51195277],\n",
       "       [0.8008895 , 0.68965517, 0.35207172],\n",
       "       [0.31337667, 0.02231237, 0.41624968],\n",
       "       [0.03079028, 0.0020284 , 0.67339682],\n",
       "       [0.66951762, 0.05679513, 0.73841188],\n",
       "       [0.11221348, 0.77687627, 0.87814405],\n",
       "       [0.31508724, 0.29411765, 0.76385058],\n",
       "       [0.46595963, 0.03245436, 0.45514555],\n",
       "       [0.60451591, 0.21298174, 0.85262066],\n",
       "       [0.73794047, 0.67342799, 0.79607243],\n",
       "       [0.071844  , 0.51521298, 0.78718728],\n",
       "       [0.66199111, 0.06490872, 0.37236629],\n",
       "       [0.83578515, 0.60649087, 0.6238261 ],\n",
       "       [0.83715361, 0.54361055, 0.64951927],\n",
       "       [0.15121451, 0.94726166, 0.44370272],\n",
       "       [0.54875128, 0.4178499 , 0.80693381],\n",
       "       [0.52172426, 0.04665314, 0.43895602],\n",
       "       [0.36161478, 0.28397566, 0.7194561 ],\n",
       "       [0.41601095, 0.74239351, 0.91959773],\n",
       "       [0.04481697, 0.07707911, 0.71877284],\n",
       "       [0.59151557, 0.18255578, 0.3879731 ],\n",
       "       [0.92234006, 0.5801217 , 0.85745036],\n",
       "       [0.71604516, 0.49290061, 0.53179575],\n",
       "       [0.17824153, 0.10953347, 0.70537658],\n",
       "       [0.35340404, 0.27789047, 0.49395217],\n",
       "       [0.39993158, 0.1643002 , 0.81284674],\n",
       "       [0.94628806, 0.27586207, 0.75296616],\n",
       "       [0.56209374, 0.13793103, 0.52699801],\n",
       "       [0.84433801, 0.73427992, 0.89952823],\n",
       "       [0.22271639, 0.40973631, 0.60182933],\n",
       "       [0.80738967, 0.3326572 , 0.64951927],\n",
       "       [0.89907629, 0.88235294, 0.3411873 ],\n",
       "       [0.45193295, 0.38336714, 0.58125938],\n",
       "       [0.37222032, 0.34685598, 0.7621669 ],\n",
       "       [0.22203216, 0.18255578, 0.08465898],\n",
       "       [0.23708519, 0.33874239, 0.52860875],\n",
       "       [0.36161478, 0.96348884, 0.82464838],\n",
       "       [0.02600068, 0.74239351, 0.79655582],\n",
       "       [0.988026  , 0.56795132, 0.78668313],\n",
       "       [0.2470065 , 0.55172414, 0.57352151],\n",
       "       [0.73075607, 0.67342799, 0.85486275],\n",
       "       [0.64864865, 0.71196755, 0.90935217],\n",
       "       [0.01265823, 0.78296146, 0.82121621],\n",
       "       [0.57201505, 0.79918864, 0.75703825],\n",
       "       [0.31953472, 0.14807302, 0.41087384],\n",
       "       [0.39822101, 0.57200811, 0.54855414],\n",
       "       [0.73349299, 0.10344828, 0.68800406],\n",
       "       [0.96989394, 0.86612576, 0.89800128],\n",
       "       [0.89462881, 0.39959432, 0.        ],\n",
       "       [0.80465275, 0.30831643, 0.68721716],\n",
       "       [0.75230927, 0.04259635, 0.56820968],\n",
       "       [0.29524461, 0.        , 0.65230209],\n",
       "       [0.28806021, 0.51115619, 0.90285118],\n",
       "       [0.88470749, 0.57809331, 0.57220536],\n",
       "       [0.61854259, 0.88438134, 0.16305107],\n",
       "       [0.74683544, 0.0811359 , 0.81773042],\n",
       "       [0.21792679, 0.73630832, 1.        ],\n",
       "       [0.24290113, 0.70385396, 0.83011543],\n",
       "       [0.38693124, 0.29208925, 0.35558496],\n",
       "       [0.6787547 , 0.44624746, 0.71877284],\n",
       "       [0.77317824, 0.76064909, 0.88988816],\n",
       "       [0.42866918, 0.10953347, 0.71671039],\n",
       "       [0.01539514, 0.03651116, 0.09610182],\n",
       "       [0.11666096, 0.06896552, 0.54260482],\n",
       "       [0.49846049, 0.02028398, 0.66221867],\n",
       "       [0.30721861, 0.87626775, 0.82078346],\n",
       "       [0.40711598, 0.69574037, 0.52043617],\n",
       "       [0.70304482, 0.41176471, 0.49017096],\n",
       "       [0.43448512, 0.86206897, 0.69948617],\n",
       "       [0.65446459, 0.96146045, 0.83094475],\n",
       "       [0.28429696, 0.23326572, 0.67589875],\n",
       "       [0.66951762, 0.04665314, 0.63305858]])"
      ]
     },
     "execution_count": 31,
     "metadata": {},
     "output_type": "execute_result"
    }
   ],
   "source": [
    "X_train_scale"
   ]
  },
  {
   "cell_type": "markdown",
   "id": "db056216",
   "metadata": {},
   "source": [
    "# Model Building "
   ]
  },
  {
   "cell_type": "code",
   "execution_count": 32,
   "id": "5e73201e",
   "metadata": {},
   "outputs": [
    {
     "data": {
      "text/html": [
       "<style>#sk-container-id-1 {\n",
       "  /* Definition of color scheme common for light and dark mode */\n",
       "  --sklearn-color-text: #000;\n",
       "  --sklearn-color-text-muted: #666;\n",
       "  --sklearn-color-line: gray;\n",
       "  /* Definition of color scheme for unfitted estimators */\n",
       "  --sklearn-color-unfitted-level-0: #fff5e6;\n",
       "  --sklearn-color-unfitted-level-1: #f6e4d2;\n",
       "  --sklearn-color-unfitted-level-2: #ffe0b3;\n",
       "  --sklearn-color-unfitted-level-3: chocolate;\n",
       "  /* Definition of color scheme for fitted estimators */\n",
       "  --sklearn-color-fitted-level-0: #f0f8ff;\n",
       "  --sklearn-color-fitted-level-1: #d4ebff;\n",
       "  --sklearn-color-fitted-level-2: #b3dbfd;\n",
       "  --sklearn-color-fitted-level-3: cornflowerblue;\n",
       "\n",
       "  /* Specific color for light theme */\n",
       "  --sklearn-color-text-on-default-background: var(--sg-text-color, var(--theme-code-foreground, var(--jp-content-font-color1, black)));\n",
       "  --sklearn-color-background: var(--sg-background-color, var(--theme-background, var(--jp-layout-color0, white)));\n",
       "  --sklearn-color-border-box: var(--sg-text-color, var(--theme-code-foreground, var(--jp-content-font-color1, black)));\n",
       "  --sklearn-color-icon: #696969;\n",
       "\n",
       "  @media (prefers-color-scheme: dark) {\n",
       "    /* Redefinition of color scheme for dark theme */\n",
       "    --sklearn-color-text-on-default-background: var(--sg-text-color, var(--theme-code-foreground, var(--jp-content-font-color1, white)));\n",
       "    --sklearn-color-background: var(--sg-background-color, var(--theme-background, var(--jp-layout-color0, #111)));\n",
       "    --sklearn-color-border-box: var(--sg-text-color, var(--theme-code-foreground, var(--jp-content-font-color1, white)));\n",
       "    --sklearn-color-icon: #878787;\n",
       "  }\n",
       "}\n",
       "\n",
       "#sk-container-id-1 {\n",
       "  color: var(--sklearn-color-text);\n",
       "}\n",
       "\n",
       "#sk-container-id-1 pre {\n",
       "  padding: 0;\n",
       "}\n",
       "\n",
       "#sk-container-id-1 input.sk-hidden--visually {\n",
       "  border: 0;\n",
       "  clip: rect(1px 1px 1px 1px);\n",
       "  clip: rect(1px, 1px, 1px, 1px);\n",
       "  height: 1px;\n",
       "  margin: -1px;\n",
       "  overflow: hidden;\n",
       "  padding: 0;\n",
       "  position: absolute;\n",
       "  width: 1px;\n",
       "}\n",
       "\n",
       "#sk-container-id-1 div.sk-dashed-wrapped {\n",
       "  border: 1px dashed var(--sklearn-color-line);\n",
       "  margin: 0 0.4em 0.5em 0.4em;\n",
       "  box-sizing: border-box;\n",
       "  padding-bottom: 0.4em;\n",
       "  background-color: var(--sklearn-color-background);\n",
       "}\n",
       "\n",
       "#sk-container-id-1 div.sk-container {\n",
       "  /* jupyter's `normalize.less` sets `[hidden] { display: none; }`\n",
       "     but bootstrap.min.css set `[hidden] { display: none !important; }`\n",
       "     so we also need the `!important` here to be able to override the\n",
       "     default hidden behavior on the sphinx rendered scikit-learn.org.\n",
       "     See: https://github.com/scikit-learn/scikit-learn/issues/21755 */\n",
       "  display: inline-block !important;\n",
       "  position: relative;\n",
       "}\n",
       "\n",
       "#sk-container-id-1 div.sk-text-repr-fallback {\n",
       "  display: none;\n",
       "}\n",
       "\n",
       "div.sk-parallel-item,\n",
       "div.sk-serial,\n",
       "div.sk-item {\n",
       "  /* draw centered vertical line to link estimators */\n",
       "  background-image: linear-gradient(var(--sklearn-color-text-on-default-background), var(--sklearn-color-text-on-default-background));\n",
       "  background-size: 2px 100%;\n",
       "  background-repeat: no-repeat;\n",
       "  background-position: center center;\n",
       "}\n",
       "\n",
       "/* Parallel-specific style estimator block */\n",
       "\n",
       "#sk-container-id-1 div.sk-parallel-item::after {\n",
       "  content: \"\";\n",
       "  width: 100%;\n",
       "  border-bottom: 2px solid var(--sklearn-color-text-on-default-background);\n",
       "  flex-grow: 1;\n",
       "}\n",
       "\n",
       "#sk-container-id-1 div.sk-parallel {\n",
       "  display: flex;\n",
       "  align-items: stretch;\n",
       "  justify-content: center;\n",
       "  background-color: var(--sklearn-color-background);\n",
       "  position: relative;\n",
       "}\n",
       "\n",
       "#sk-container-id-1 div.sk-parallel-item {\n",
       "  display: flex;\n",
       "  flex-direction: column;\n",
       "}\n",
       "\n",
       "#sk-container-id-1 div.sk-parallel-item:first-child::after {\n",
       "  align-self: flex-end;\n",
       "  width: 50%;\n",
       "}\n",
       "\n",
       "#sk-container-id-1 div.sk-parallel-item:last-child::after {\n",
       "  align-self: flex-start;\n",
       "  width: 50%;\n",
       "}\n",
       "\n",
       "#sk-container-id-1 div.sk-parallel-item:only-child::after {\n",
       "  width: 0;\n",
       "}\n",
       "\n",
       "/* Serial-specific style estimator block */\n",
       "\n",
       "#sk-container-id-1 div.sk-serial {\n",
       "  display: flex;\n",
       "  flex-direction: column;\n",
       "  align-items: center;\n",
       "  background-color: var(--sklearn-color-background);\n",
       "  padding-right: 1em;\n",
       "  padding-left: 1em;\n",
       "}\n",
       "\n",
       "\n",
       "/* Toggleable style: style used for estimator/Pipeline/ColumnTransformer box that is\n",
       "clickable and can be expanded/collapsed.\n",
       "- Pipeline and ColumnTransformer use this feature and define the default style\n",
       "- Estimators will overwrite some part of the style using the `sk-estimator` class\n",
       "*/\n",
       "\n",
       "/* Pipeline and ColumnTransformer style (default) */\n",
       "\n",
       "#sk-container-id-1 div.sk-toggleable {\n",
       "  /* Default theme specific background. It is overwritten whether we have a\n",
       "  specific estimator or a Pipeline/ColumnTransformer */\n",
       "  background-color: var(--sklearn-color-background);\n",
       "}\n",
       "\n",
       "/* Toggleable label */\n",
       "#sk-container-id-1 label.sk-toggleable__label {\n",
       "  cursor: pointer;\n",
       "  display: flex;\n",
       "  width: 100%;\n",
       "  margin-bottom: 0;\n",
       "  padding: 0.5em;\n",
       "  box-sizing: border-box;\n",
       "  text-align: center;\n",
       "  align-items: start;\n",
       "  justify-content: space-between;\n",
       "  gap: 0.5em;\n",
       "}\n",
       "\n",
       "#sk-container-id-1 label.sk-toggleable__label .caption {\n",
       "  font-size: 0.6rem;\n",
       "  font-weight: lighter;\n",
       "  color: var(--sklearn-color-text-muted);\n",
       "}\n",
       "\n",
       "#sk-container-id-1 label.sk-toggleable__label-arrow:before {\n",
       "  /* Arrow on the left of the label */\n",
       "  content: \"▸\";\n",
       "  float: left;\n",
       "  margin-right: 0.25em;\n",
       "  color: var(--sklearn-color-icon);\n",
       "}\n",
       "\n",
       "#sk-container-id-1 label.sk-toggleable__label-arrow:hover:before {\n",
       "  color: var(--sklearn-color-text);\n",
       "}\n",
       "\n",
       "/* Toggleable content - dropdown */\n",
       "\n",
       "#sk-container-id-1 div.sk-toggleable__content {\n",
       "  max-height: 0;\n",
       "  max-width: 0;\n",
       "  overflow: hidden;\n",
       "  text-align: left;\n",
       "  /* unfitted */\n",
       "  background-color: var(--sklearn-color-unfitted-level-0);\n",
       "}\n",
       "\n",
       "#sk-container-id-1 div.sk-toggleable__content.fitted {\n",
       "  /* fitted */\n",
       "  background-color: var(--sklearn-color-fitted-level-0);\n",
       "}\n",
       "\n",
       "#sk-container-id-1 div.sk-toggleable__content pre {\n",
       "  margin: 0.2em;\n",
       "  border-radius: 0.25em;\n",
       "  color: var(--sklearn-color-text);\n",
       "  /* unfitted */\n",
       "  background-color: var(--sklearn-color-unfitted-level-0);\n",
       "}\n",
       "\n",
       "#sk-container-id-1 div.sk-toggleable__content.fitted pre {\n",
       "  /* unfitted */\n",
       "  background-color: var(--sklearn-color-fitted-level-0);\n",
       "}\n",
       "\n",
       "#sk-container-id-1 input.sk-toggleable__control:checked~div.sk-toggleable__content {\n",
       "  /* Expand drop-down */\n",
       "  max-height: 200px;\n",
       "  max-width: 100%;\n",
       "  overflow: auto;\n",
       "}\n",
       "\n",
       "#sk-container-id-1 input.sk-toggleable__control:checked~label.sk-toggleable__label-arrow:before {\n",
       "  content: \"▾\";\n",
       "}\n",
       "\n",
       "/* Pipeline/ColumnTransformer-specific style */\n",
       "\n",
       "#sk-container-id-1 div.sk-label input.sk-toggleable__control:checked~label.sk-toggleable__label {\n",
       "  color: var(--sklearn-color-text);\n",
       "  background-color: var(--sklearn-color-unfitted-level-2);\n",
       "}\n",
       "\n",
       "#sk-container-id-1 div.sk-label.fitted input.sk-toggleable__control:checked~label.sk-toggleable__label {\n",
       "  background-color: var(--sklearn-color-fitted-level-2);\n",
       "}\n",
       "\n",
       "/* Estimator-specific style */\n",
       "\n",
       "/* Colorize estimator box */\n",
       "#sk-container-id-1 div.sk-estimator input.sk-toggleable__control:checked~label.sk-toggleable__label {\n",
       "  /* unfitted */\n",
       "  background-color: var(--sklearn-color-unfitted-level-2);\n",
       "}\n",
       "\n",
       "#sk-container-id-1 div.sk-estimator.fitted input.sk-toggleable__control:checked~label.sk-toggleable__label {\n",
       "  /* fitted */\n",
       "  background-color: var(--sklearn-color-fitted-level-2);\n",
       "}\n",
       "\n",
       "#sk-container-id-1 div.sk-label label.sk-toggleable__label,\n",
       "#sk-container-id-1 div.sk-label label {\n",
       "  /* The background is the default theme color */\n",
       "  color: var(--sklearn-color-text-on-default-background);\n",
       "}\n",
       "\n",
       "/* On hover, darken the color of the background */\n",
       "#sk-container-id-1 div.sk-label:hover label.sk-toggleable__label {\n",
       "  color: var(--sklearn-color-text);\n",
       "  background-color: var(--sklearn-color-unfitted-level-2);\n",
       "}\n",
       "\n",
       "/* Label box, darken color on hover, fitted */\n",
       "#sk-container-id-1 div.sk-label.fitted:hover label.sk-toggleable__label.fitted {\n",
       "  color: var(--sklearn-color-text);\n",
       "  background-color: var(--sklearn-color-fitted-level-2);\n",
       "}\n",
       "\n",
       "/* Estimator label */\n",
       "\n",
       "#sk-container-id-1 div.sk-label label {\n",
       "  font-family: monospace;\n",
       "  font-weight: bold;\n",
       "  display: inline-block;\n",
       "  line-height: 1.2em;\n",
       "}\n",
       "\n",
       "#sk-container-id-1 div.sk-label-container {\n",
       "  text-align: center;\n",
       "}\n",
       "\n",
       "/* Estimator-specific */\n",
       "#sk-container-id-1 div.sk-estimator {\n",
       "  font-family: monospace;\n",
       "  border: 1px dotted var(--sklearn-color-border-box);\n",
       "  border-radius: 0.25em;\n",
       "  box-sizing: border-box;\n",
       "  margin-bottom: 0.5em;\n",
       "  /* unfitted */\n",
       "  background-color: var(--sklearn-color-unfitted-level-0);\n",
       "}\n",
       "\n",
       "#sk-container-id-1 div.sk-estimator.fitted {\n",
       "  /* fitted */\n",
       "  background-color: var(--sklearn-color-fitted-level-0);\n",
       "}\n",
       "\n",
       "/* on hover */\n",
       "#sk-container-id-1 div.sk-estimator:hover {\n",
       "  /* unfitted */\n",
       "  background-color: var(--sklearn-color-unfitted-level-2);\n",
       "}\n",
       "\n",
       "#sk-container-id-1 div.sk-estimator.fitted:hover {\n",
       "  /* fitted */\n",
       "  background-color: var(--sklearn-color-fitted-level-2);\n",
       "}\n",
       "\n",
       "/* Specification for estimator info (e.g. \"i\" and \"?\") */\n",
       "\n",
       "/* Common style for \"i\" and \"?\" */\n",
       "\n",
       ".sk-estimator-doc-link,\n",
       "a:link.sk-estimator-doc-link,\n",
       "a:visited.sk-estimator-doc-link {\n",
       "  float: right;\n",
       "  font-size: smaller;\n",
       "  line-height: 1em;\n",
       "  font-family: monospace;\n",
       "  background-color: var(--sklearn-color-background);\n",
       "  border-radius: 1em;\n",
       "  height: 1em;\n",
       "  width: 1em;\n",
       "  text-decoration: none !important;\n",
       "  margin-left: 0.5em;\n",
       "  text-align: center;\n",
       "  /* unfitted */\n",
       "  border: var(--sklearn-color-unfitted-level-1) 1pt solid;\n",
       "  color: var(--sklearn-color-unfitted-level-1);\n",
       "}\n",
       "\n",
       ".sk-estimator-doc-link.fitted,\n",
       "a:link.sk-estimator-doc-link.fitted,\n",
       "a:visited.sk-estimator-doc-link.fitted {\n",
       "  /* fitted */\n",
       "  border: var(--sklearn-color-fitted-level-1) 1pt solid;\n",
       "  color: var(--sklearn-color-fitted-level-1);\n",
       "}\n",
       "\n",
       "/* On hover */\n",
       "div.sk-estimator:hover .sk-estimator-doc-link:hover,\n",
       ".sk-estimator-doc-link:hover,\n",
       "div.sk-label-container:hover .sk-estimator-doc-link:hover,\n",
       ".sk-estimator-doc-link:hover {\n",
       "  /* unfitted */\n",
       "  background-color: var(--sklearn-color-unfitted-level-3);\n",
       "  color: var(--sklearn-color-background);\n",
       "  text-decoration: none;\n",
       "}\n",
       "\n",
       "div.sk-estimator.fitted:hover .sk-estimator-doc-link.fitted:hover,\n",
       ".sk-estimator-doc-link.fitted:hover,\n",
       "div.sk-label-container:hover .sk-estimator-doc-link.fitted:hover,\n",
       ".sk-estimator-doc-link.fitted:hover {\n",
       "  /* fitted */\n",
       "  background-color: var(--sklearn-color-fitted-level-3);\n",
       "  color: var(--sklearn-color-background);\n",
       "  text-decoration: none;\n",
       "}\n",
       "\n",
       "/* Span, style for the box shown on hovering the info icon */\n",
       ".sk-estimator-doc-link span {\n",
       "  display: none;\n",
       "  z-index: 9999;\n",
       "  position: relative;\n",
       "  font-weight: normal;\n",
       "  right: .2ex;\n",
       "  padding: .5ex;\n",
       "  margin: .5ex;\n",
       "  width: min-content;\n",
       "  min-width: 20ex;\n",
       "  max-width: 50ex;\n",
       "  color: var(--sklearn-color-text);\n",
       "  box-shadow: 2pt 2pt 4pt #999;\n",
       "  /* unfitted */\n",
       "  background: var(--sklearn-color-unfitted-level-0);\n",
       "  border: .5pt solid var(--sklearn-color-unfitted-level-3);\n",
       "}\n",
       "\n",
       ".sk-estimator-doc-link.fitted span {\n",
       "  /* fitted */\n",
       "  background: var(--sklearn-color-fitted-level-0);\n",
       "  border: var(--sklearn-color-fitted-level-3);\n",
       "}\n",
       "\n",
       ".sk-estimator-doc-link:hover span {\n",
       "  display: block;\n",
       "}\n",
       "\n",
       "/* \"?\"-specific style due to the `<a>` HTML tag */\n",
       "\n",
       "#sk-container-id-1 a.estimator_doc_link {\n",
       "  float: right;\n",
       "  font-size: 1rem;\n",
       "  line-height: 1em;\n",
       "  font-family: monospace;\n",
       "  background-color: var(--sklearn-color-background);\n",
       "  border-radius: 1rem;\n",
       "  height: 1rem;\n",
       "  width: 1rem;\n",
       "  text-decoration: none;\n",
       "  /* unfitted */\n",
       "  color: var(--sklearn-color-unfitted-level-1);\n",
       "  border: var(--sklearn-color-unfitted-level-1) 1pt solid;\n",
       "}\n",
       "\n",
       "#sk-container-id-1 a.estimator_doc_link.fitted {\n",
       "  /* fitted */\n",
       "  border: var(--sklearn-color-fitted-level-1) 1pt solid;\n",
       "  color: var(--sklearn-color-fitted-level-1);\n",
       "}\n",
       "\n",
       "/* On hover */\n",
       "#sk-container-id-1 a.estimator_doc_link:hover {\n",
       "  /* unfitted */\n",
       "  background-color: var(--sklearn-color-unfitted-level-3);\n",
       "  color: var(--sklearn-color-background);\n",
       "  text-decoration: none;\n",
       "}\n",
       "\n",
       "#sk-container-id-1 a.estimator_doc_link.fitted:hover {\n",
       "  /* fitted */\n",
       "  background-color: var(--sklearn-color-fitted-level-3);\n",
       "}\n",
       "</style><div id=\"sk-container-id-1\" class=\"sk-top-container\"><div class=\"sk-text-repr-fallback\"><pre>LinearRegression()</pre><b>In a Jupyter environment, please rerun this cell to show the HTML representation or trust the notebook. <br />On GitHub, the HTML representation is unable to render, please try loading this page with nbviewer.org.</b></div><div class=\"sk-container\" hidden><div class=\"sk-item\"><div class=\"sk-estimator fitted sk-toggleable\"><input class=\"sk-toggleable__control sk-hidden--visually\" id=\"sk-estimator-id-1\" type=\"checkbox\" checked><label for=\"sk-estimator-id-1\" class=\"sk-toggleable__label fitted sk-toggleable__label-arrow\"><div><div>LinearRegression</div></div><div><a class=\"sk-estimator-doc-link fitted\" rel=\"noreferrer\" target=\"_blank\" href=\"https://scikit-learn.org/1.6/modules/generated/sklearn.linear_model.LinearRegression.html\">?<span>Documentation for LinearRegression</span></a><span class=\"sk-estimator-doc-link fitted\">i<span>Fitted</span></span></div></label><div class=\"sk-toggleable__content fitted\"><pre>LinearRegression()</pre></div> </div></div></div></div>"
      ],
      "text/plain": [
       "LinearRegression()"
      ]
     },
     "execution_count": 32,
     "metadata": {},
     "output_type": "execute_result"
    }
   ],
   "source": [
    "from sklearn.linear_model import LinearRegression\n",
    "\n",
    "\n",
    "\n",
    "lm = LinearRegression()\n",
    "\n",
    "lm.fit(X_train_scale, y_train)\n"
   ]
  },
  {
   "cell_type": "code",
   "execution_count": 33,
   "id": "43bd542e",
   "metadata": {},
   "outputs": [
    {
     "name": "stdout",
     "output_type": "stream",
     "text": [
      "3.577703676256254\n",
      "[12.78593321  9.51672799 -0.21942783]\n"
     ]
    }
   ],
   "source": [
    "#print intercept and coefficients\n",
    "\n",
    "print(lm.intercept_)\n",
    "print(lm.coef_)\n"
   ]
  },
  {
   "cell_type": "code",
   "execution_count": 34,
   "id": "9ff92562",
   "metadata": {},
   "outputs": [
    {
     "data": {
      "text/plain": [
       "Index(['TV', 'radio', 'newspaper'], dtype='object')"
      ]
     },
     "execution_count": 34,
     "metadata": {},
     "output_type": "execute_result"
    }
   ],
   "source": [
    "X_train.columns"
   ]
  },
  {
   "cell_type": "code",
   "execution_count": 35,
   "id": "a8133730",
   "metadata": {},
   "outputs": [
    {
     "name": "stdout",
     "output_type": "stream",
     "text": [
      "[('TV', 12.785933211080348), ('radio', 9.51672799339122), ('newspaper', -0.21942783008785402)]\n"
     ]
    }
   ],
   "source": [
    "# pair the feature names with the coefficients\n",
    "print(list(zip(feature_cols, lm.coef_)))"
   ]
  },
  {
   "cell_type": "code",
   "execution_count": 36,
   "id": "aa2cd995",
   "metadata": {},
   "outputs": [
    {
     "name": "stdout",
     "output_type": "stream",
     "text": [
      "3.577703676256249\n"
     ]
    }
   ],
   "source": [
    "# try chaging the value of X \n",
    "600\n",
    "X1=0 # tv\n",
    "X2=0 # radio\n",
    "X3=0 # newspaper\n",
    "y_pred_single_data=3.577703676256249+(12.78593321 * X1)+(9.516727993391225 * X2)+(-0.219427830*X3)\n",
    "print(y_pred_single_data)"
   ]
  },
  {
   "cell_type": "code",
   "execution_count": 37,
   "id": "1840a4f9",
   "metadata": {},
   "outputs": [
    {
     "name": "stdout",
     "output_type": "stream",
     "text": [
      "[18.15026866 12.96136899 18.05815332 23.66025079 20.68751041 14.26325872\n",
      " 14.92774472 21.38847375 21.14752911 12.75788534 23.99735583  7.20632737\n",
      " 12.30777109 19.22813333 19.41581583 13.44985803 19.62619644  9.24667496\n",
      " 21.1052867  20.87838433 15.52611251 10.91695579 22.82910679 15.82915597\n",
      " 17.40742204  8.17170435 11.88738387 12.69866637 21.71275044  7.94920205\n",
      " 12.49118989 20.43292079  4.71443086  4.72126238 16.7504848  15.74384945\n",
      "  6.74775596 17.73750244  9.01170001 13.60841593]\n"
     ]
    }
   ],
   "source": [
    "# X_test_scale\n",
    "\n",
    "y_pred = lm.predict(X_test_scale)\n",
    "print(y_pred)"
   ]
  },
  {
   "cell_type": "code",
   "execution_count": 38,
   "id": "afafbc4d",
   "metadata": {},
   "outputs": [],
   "source": [
    "new_df = pd.DataFrame()\n",
    "new_df = X_test\n",
    "\n",
    "new_df[\"Actual Sales\"] = y_test\n",
    "new_df[\"Predicted Sales\"] = y_pred\n",
    "new_df[\"Error\"] = abs(new_df[\"Actual Sales\"] - new_df[\"Predicted Sales\"])\n",
    "# new_df"
   ]
  },
  {
   "cell_type": "code",
   "execution_count": 40,
   "id": "8619111d",
   "metadata": {},
   "outputs": [
    {
     "name": "stdout",
     "output_type": "stream",
     "text": [
      "R Square:  0.834801071903532\n",
      "Adjusted R Square:  0.8322725168816474\n",
      "RMSE:  2.59297691109306\n"
     ]
    }
   ],
   "source": [
    "from sklearn.metrics import r2_score, mean_squared_error  # https://justpaste.it/etigm\n",
    "import numpy as np\n",
    "\n",
    "r2=r2_score(y_test,y_pred)\n",
    "print(\"R Square: \", r2)\n",
    "\n",
    "adjusted_r_squared = 1 - (1-r2)*(len(y)-1)/(len(y)-X.shape[1]-1)\n",
    "print(\"Adjusted R Square: \", adjusted_r_squared)\n",
    "\n",
    "rmse=np.sqrt(mean_squared_error(y_test,y_pred))\n",
    "print(\"RMSE: \", rmse)"
   ]
  },
  {
   "cell_type": "code",
   "execution_count": 39,
   "id": "e1062ea1",
   "metadata": {},
   "outputs": [
    {
     "name": "stdout",
     "output_type": "stream",
     "text": [
      "1.6\n",
      "27.0\n"
     ]
    }
   ],
   "source": [
    "print(min(y))\n",
    "print(max(y))      "
   ]
  },
  {
   "cell_type": "code",
   "execution_count": 41,
   "id": "7cce3c36",
   "metadata": {},
   "outputs": [
    {
     "data": {
      "text/html": [
       "<div>\n",
       "<style scoped>\n",
       "    .dataframe tbody tr th:only-of-type {\n",
       "        vertical-align: middle;\n",
       "    }\n",
       "\n",
       "    .dataframe tbody tr th {\n",
       "        vertical-align: top;\n",
       "    }\n",
       "\n",
       "    .dataframe thead th {\n",
       "        text-align: right;\n",
       "    }\n",
       "</style>\n",
       "<table border=\"1\" class=\"dataframe\">\n",
       "  <thead>\n",
       "    <tr style=\"text-align: right;\">\n",
       "      <th></th>\n",
       "      <th>TV</th>\n",
       "      <th>radio</th>\n",
       "      <th>newspaper</th>\n",
       "      <th>Actual Sales</th>\n",
       "      <th>Predicted Sales</th>\n",
       "      <th>Error</th>\n",
       "      <th>Deviation</th>\n",
       "    </tr>\n",
       "  </thead>\n",
       "  <tbody>\n",
       "    <tr>\n",
       "      <th>60</th>\n",
       "      <td>210.7</td>\n",
       "      <td>29.5</td>\n",
       "      <td>2.332144</td>\n",
       "      <td>18.4</td>\n",
       "      <td>18.150269</td>\n",
       "      <td>0.249731</td>\n",
       "      <td>0.249731</td>\n",
       "    </tr>\n",
       "    <tr>\n",
       "      <th>6</th>\n",
       "      <td>8.7</td>\n",
       "      <td>48.9</td>\n",
       "      <td>4.330733</td>\n",
       "      <td>7.2</td>\n",
       "      <td>12.961369</td>\n",
       "      <td>5.761369</td>\n",
       "      <td>-5.761369</td>\n",
       "    </tr>\n",
       "    <tr>\n",
       "      <th>21</th>\n",
       "      <td>218.4</td>\n",
       "      <td>27.7</td>\n",
       "      <td>3.996364</td>\n",
       "      <td>18.0</td>\n",
       "      <td>18.058153</td>\n",
       "      <td>0.058153</td>\n",
       "      <td>-0.058153</td>\n",
       "    </tr>\n",
       "    <tr>\n",
       "      <th>199</th>\n",
       "      <td>283.6</td>\n",
       "      <td>42.0</td>\n",
       "      <td>4.207673</td>\n",
       "      <td>25.5</td>\n",
       "      <td>23.660251</td>\n",
       "      <td>1.839749</td>\n",
       "      <td>1.839749</td>\n",
       "    </tr>\n",
       "    <tr>\n",
       "      <th>53</th>\n",
       "      <td>216.4</td>\n",
       "      <td>41.7</td>\n",
       "      <td>3.703768</td>\n",
       "      <td>22.6</td>\n",
       "      <td>20.687510</td>\n",
       "      <td>1.912490</td>\n",
       "      <td>1.912490</td>\n",
       "    </tr>\n",
       "  </tbody>\n",
       "</table>\n",
       "</div>"
      ],
      "text/plain": [
       "        TV  radio  newspaper  Actual Sales  Predicted Sales     Error  \\\n",
       "60   210.7   29.5   2.332144          18.4        18.150269  0.249731   \n",
       "6      8.7   48.9   4.330733           7.2        12.961369  5.761369   \n",
       "21   218.4   27.7   3.996364          18.0        18.058153  0.058153   \n",
       "199  283.6   42.0   4.207673          25.5        23.660251  1.839749   \n",
       "53   216.4   41.7   3.703768          22.6        20.687510  1.912490   \n",
       "\n",
       "     Deviation  \n",
       "60    0.249731  \n",
       "6    -5.761369  \n",
       "21   -0.058153  \n",
       "199   1.839749  \n",
       "53    1.912490  "
      ]
     },
     "execution_count": 41,
     "metadata": {},
     "output_type": "execute_result"
    }
   ],
   "source": [
    "new_df[\"Deviation\"] = new_df[\"Actual Sales\"] - new_df[\"Predicted Sales\"]\n",
    "new_df.to_csv(\"Advertising_Pred.csv\", header=True, index=False)\n",
    "new_df.head()"
   ]
  },
  {
   "cell_type": "code",
   "execution_count": null,
   "id": "b33f657a",
   "metadata": {},
   "outputs": [],
   "source": []
  },
  {
   "cell_type": "code",
   "execution_count": null,
   "id": "d6630502",
   "metadata": {},
   "outputs": [],
   "source": []
  },
  {
   "cell_type": "code",
   "execution_count": null,
   "id": "eb24292a",
   "metadata": {},
   "outputs": [],
   "source": []
  },
  {
   "cell_type": "code",
   "execution_count": null,
   "id": "81ad7063",
   "metadata": {},
   "outputs": [],
   "source": []
  },
  {
   "cell_type": "code",
   "execution_count": null,
   "id": "60df2100",
   "metadata": {},
   "outputs": [],
   "source": []
  },
  {
   "cell_type": "code",
   "execution_count": null,
   "id": "aa6f29e0",
   "metadata": {},
   "outputs": [],
   "source": []
  }
 ],
 "metadata": {
  "kernelspec": {
   "display_name": "Python 3 (ipykernel)",
   "language": "python",
   "name": "python3"
  },
  "language_info": {
   "codemirror_mode": {
    "name": "ipython",
    "version": 3
   },
   "file_extension": ".py",
   "mimetype": "text/x-python",
   "name": "python",
   "nbconvert_exporter": "python",
   "pygments_lexer": "ipython3",
   "version": "3.11.5"
  }
 },
 "nbformat": 4,
 "nbformat_minor": 5
}
